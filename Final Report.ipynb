{
    "cells": [
        {
            "cell_type": "markdown",
            "metadata": {
                "collapsed": true
            },
            "source": "## Introduction"
        },
        {
            "cell_type": "markdown",
            "metadata": {},
            "source": "This project is part of the Final Course of IBM's Data Science Specialization hosted at Coursera. The data for this project has been provided by the Seattle Police Department and recorded by Traffic Records which has been shared to us via link by Coursera. The dataset contains collision records from 2004 to present containing information about accident severity, location, degree of severity, count of person involved, weather, road and visibility conditions, etc."
        },
        {
            "cell_type": "markdown",
            "metadata": {},
            "source": "## Project Goal"
        },
        {
            "cell_type": "markdown",
            "metadata": {},
            "source": "1. Understanding the Data\n2. Data Preprocessing and Feature Selection\n3. Model Selection and Training\n4. Evaluation"
        },
        {
            "cell_type": "markdown",
            "metadata": {},
            "source": "## Discussion of the Problem and a Brief Background"
        },
        {
            "cell_type": "markdown",
            "metadata": {},
            "source": "Road Traffic Accidents has become an important issue which needs to be tackled. As per a WHO report the lives of approximately 1.35 million people are cut short as a result of a road traffic crash. Considerable economic loss is caused by road accidents to individuals, families and the nation as a whole. In countries like India even with traffic rules in place the fatalities due to Road Traffic Accidents are increasing on a day to day basis. It is estimated that Road Traffic Crashes cost most countries 3% of their Gross Domestic Product (GDP). The objective here is to find the factors that cause Road Accidents and find the degree of relationship between it so as to find ways to prevent such accidents."
        },
        {
            "cell_type": "markdown",
            "metadata": {},
            "source": "## Data Description and how it will be used to solve the Problem"
        },
        {
            "cell_type": "markdown",
            "metadata": {},
            "source": "The dataset roughly contains about 2,00,000 data points of collision from 2004 till date with varying degrees of severity along with 37 attributes. \nSome of the attributes that we can use are as follows:\n* Weather Conditions\n* Road Conditions\n* Visibility Conditions\n* Speeding Information\n* Junction Type\n\nWe can use this data to find attributes that have the most impact on Road Accidents to ensure prevention in future cases."
        }
    ],
    "metadata": {
        "kernelspec": {
            "display_name": "Python 3.6",
            "language": "python",
            "name": "python3"
        },
        "language_info": {
            "codemirror_mode": {
                "name": "ipython",
                "version": 3
            },
            "file_extension": ".py",
            "mimetype": "text/x-python",
            "name": "python",
            "nbconvert_exporter": "python",
            "pygments_lexer": "ipython3",
            "version": "3.6.9"
        }
    },
    "nbformat": 4,
    "nbformat_minor": 1
}